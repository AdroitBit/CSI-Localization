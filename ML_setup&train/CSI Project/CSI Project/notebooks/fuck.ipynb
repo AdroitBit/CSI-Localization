{
 "cells": [
  {
   "cell_type": "code",
   "execution_count": 4,
   "metadata": {},
   "outputs": [],
   "source": [
    "import json\n",
    "\n",
    "# Use curl to get the JSON data\n",
    "json_data = !curl -s https://4fbc-2405-9800-b671-2af7-54ba-c2b0-542f-1287.ngrok-free.app/get_data\n",
    "data_dict = json.loads(json_data[0])\n",
    "data_values = [item['Data'] for item in data_dict['data']]\n",
    "result_json = {\"map\": data_values[-1]}"
   ]
  },
  {
   "cell_type": "code",
   "execution_count": 5,
   "metadata": {},
   "outputs": [
    {
     "data": {
      "text/plain": [
       "{'map': [[1, 0, 1, 0], [0, 1, 0, 1], [1, 0, 1, 0], [0, 1, 0, 1]]}"
      ]
     },
     "execution_count": 5,
     "metadata": {},
     "output_type": "execute_result"
    }
   ],
   "source": [
    "result_json"
   ]
  },
  {
   "cell_type": "code",
   "execution_count": null,
   "metadata": {},
   "outputs": [],
   "source": [
    "{\n",
    "    'map':[\n",
    "        [0,1,0,0],\n",
    "        [0,1,1,0],\n",
    "        [1,1,1,1],\n",
    "        [0,0,0,0]\n",
    "    ]\n",
    "}"
   ]
  }
 ],
 "metadata": {
  "kernelspec": {
   "display_name": "Python 3",
   "language": "python",
   "name": "python3"
  },
  "language_info": {
   "codemirror_mode": {
    "name": "ipython",
    "version": 3
   },
   "file_extension": ".py",
   "mimetype": "text/x-python",
   "name": "python",
   "nbconvert_exporter": "python",
   "pygments_lexer": "ipython3",
   "version": "3.11.3"
  }
 },
 "nbformat": 4,
 "nbformat_minor": 2
}
